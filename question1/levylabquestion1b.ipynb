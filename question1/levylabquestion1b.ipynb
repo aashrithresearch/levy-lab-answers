{
  "nbformat": 4,
  "nbformat_minor": 0,
  "metadata": {
    "colab": {
      "provenance": [],
      "gpuType": "V28",
      "authorship_tag": "ABX9TyPS3Nd4gYdTCT6frF39UIzC",
      "include_colab_link": true
    },
    "kernelspec": {
      "name": "python3",
      "display_name": "Python 3"
    },
    "language_info": {
      "name": "python"
    },
    "accelerator": "TPU"
  },
  "cells": [
    {
      "cell_type": "markdown",
      "metadata": {
        "id": "view-in-github",
        "colab_type": "text"
      },
      "source": [
        "<a href=\"https://colab.research.google.com/github/aashrithresearch/levy-lab-answers/blob/main/levylabquestion1a.ipynb\" target=\"_parent\"><img src=\"https://colab.research.google.com/assets/colab-badge.svg\" alt=\"Open In Colab\"/></a>"
      ]
    },
    {
      "cell_type": "code",
      "source": [
        "numbers = [5.99342831, 4.7234714, 6.29537708, 8.04605971, 4.53169325,\n",
        "           4.53172609, 8.15842563, 6.53486946, 4.06105123, 6.08512009]\n",
        "\n",
        "length_of_list = len(numbers)"
      ],
      "metadata": {
        "id": "GWPtxXfvqs4m"
      },
      "execution_count": 2,
      "outputs": []
    },
    {
      "cell_type": "code",
      "source": [
        "count = 0\n",
        "for number in numbers:\n",
        "  if number > 4:\n",
        "    count += 1\n",
        "proportion = count / length_of_list\n",
        "print(\"Proportion of values that exceed 4: \", proportion)"
      ],
      "metadata": {
        "colab": {
          "base_uri": "https://localhost:8080/"
        },
        "id": "IG7yQFLRUYmK",
        "outputId": "f4844e6a-1608-4110-ec42-25ffecf5baef"
      },
      "execution_count": 3,
      "outputs": [
        {
          "output_type": "stream",
          "name": "stdout",
          "text": [
            "Proportion of values that exceed 4:  1.0\n"
          ]
        }
      ]
    }
  ]
}
