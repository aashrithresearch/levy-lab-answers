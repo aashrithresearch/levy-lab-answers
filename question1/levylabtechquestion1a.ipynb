{
  "nbformat": 4,
  "nbformat_minor": 0,
  "metadata": {
    "colab": {
      "provenance": [],
      "authorship_tag": "ABX9TyNICwU0vHX5xuBSPERjS/G3",
      "include_colab_link": true
    },
    "kernelspec": {
      "name": "python3",
      "display_name": "Python 3"
    },
    "language_info": {
      "name": "python"
    }
  },
  "cells": [
    {
      "cell_type": "markdown",
      "metadata": {
        "id": "view-in-github",
        "colab_type": "text"
      },
      "source": [
        "<a href=\"https://colab.research.google.com/github/aashrithresearch/levy-lab-answers/blob/main/levylabtechquestion1.ipynb\" target=\"_parent\"><img src=\"https://colab.research.google.com/assets/colab-badge.svg\" alt=\"Open In Colab\"/></a>"
      ]
    },
    {
      "cell_type": "code",
      "execution_count": 6,
      "metadata": {
        "id": "10DtMLS2aEnb"
      },
      "outputs": [],
      "source": [
        "def meanCalculator(numbers):\n",
        "  total = sum(numbers)\n",
        "  mean = total / len(numbers)\n",
        "  return mean\n",
        "\n",
        "  if len(numbers) == 0:\n",
        "    return 0"
      ]
    },
    {
      "cell_type": "code",
      "source": [
        "def standarddeviationCalculator(numbers):\n",
        "  total = sum(numbers)\n",
        "  mean = total / len(numbers)\n",
        "  return mean\n",
        "\n",
        "  if len(numbers) == 0:\n",
        "    return 0\n",
        "\n",
        "  squared_diff = [(x - mean)**2 for x in numbers]\n",
        "  variance = sum(squared_diff) / len(numbers)\n",
        "  standard_deviation = variance ** 0.5\n",
        "  return standard_deviation"
      ],
      "metadata": {
        "id": "hdZpU1-2auSO"
      },
      "execution_count": 7,
      "outputs": []
    },
    {
      "cell_type": "code",
      "source": [
        "def numElements(numbers):\n",
        "  return len(numbers)"
      ],
      "metadata": {
        "id": "xGdnkjRTbe_S"
      },
      "execution_count": 8,
      "outputs": []
    },
    {
      "cell_type": "code",
      "source": [
        "numbers = [5.99342831, 4.7234714 , 6.29537708, 8.04605971, 4.53169325, 4.53172609, 8.15842563, 6.53486946, 4.06105123, 6.08512009]"
      ],
      "metadata": {
        "id": "HAqnCKv9bnyS"
      },
      "execution_count": 12,
      "outputs": []
    },
    {
      "cell_type": "code",
      "source": [
        "print(\"Mean: \" + str(meanCalculator(numbers)))\n",
        "print(\"Standard Deviation: \" + str(standarddeviationCalculator(numbers)))\n",
        "print(\"Number of elements: \" + str(numElements(numbers)))"
      ],
      "metadata": {
        "colab": {
          "base_uri": "https://localhost:8080/"
        },
        "id": "AKAq8QCIb6CF",
        "outputId": "e1896eec-2a90-4db6-f5b9-92b89b0c6435"
      },
      "execution_count": 15,
      "outputs": [
        {
          "output_type": "stream",
          "name": "stdout",
          "text": [
            "Mean: 5.896122225000001\n",
            "Standard Deviation: 5.896122225000001\n",
            "Number of elements: 10\n"
          ]
        }
      ]
    }
  ]
}
